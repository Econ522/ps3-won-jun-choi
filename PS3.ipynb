{
 "cells": [
  {
   "cell_type": "markdown",
   "id": "c380ed25-5a0b-4632-84b5-8028dcae1ad3",
   "metadata": {},
   "source": [
    "# Problem Set 2"
   ]
  },
  {
   "cell_type": "markdown",
   "id": "04fbbc8d-48aa-469c-adeb-219360ff05eb",
   "metadata": {},
   "source": [
    "## Question 4"
   ]
  },
  {
   "cell_type": "markdown",
   "id": "43170294-bb2d-482c-8af9-b25752eb0b8b",
   "metadata": {},
   "source": [
    "Do Exercise 26.12 in Hansen (2022)."
   ]
  },
  {
   "cell_type": "code",
   "execution_count": null,
   "id": "52b184f2-e58e-4b0b-b79e-d975f3107b48",
   "metadata": {},
   "outputs": [],
   "source": []
  }
 ],
 "metadata": {
  "environment": {
   "kernel": "python3",
   "name": "common-cpu.m94",
   "type": "gcloud",
   "uri": "gcr.io/deeplearning-platform-release/base-cpu:m94"
  },
  "kernelspec": {
   "display_name": "Python 3",
   "language": "python",
   "name": "python3"
  },
  "language_info": {
   "codemirror_mode": {
    "name": "ipython",
    "version": 3
   },
   "file_extension": ".py",
   "mimetype": "text/x-python",
   "name": "python",
   "nbconvert_exporter": "python",
   "pygments_lexer": "ipython3",
   "version": "3.7.12"
  }
 },
 "nbformat": 4,
 "nbformat_minor": 5
}
