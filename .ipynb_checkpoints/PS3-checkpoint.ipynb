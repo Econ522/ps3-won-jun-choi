{
 "cells": [
  {
   "cell_type": "markdown",
   "id": "c380ed25-5a0b-4632-84b5-8028dcae1ad3",
   "metadata": {},
   "source": [
    "# Problem Set 2"
   ]
  },
  {
   "cell_type": "markdown",
   "id": "04fbbc8d-48aa-469c-adeb-219360ff05eb",
   "metadata": {},
   "source": [
    "## Question 4"
   ]
  },
  {
   "cell_type": "markdown",
   "id": "43170294-bb2d-482c-8af9-b25752eb0b8b",
   "metadata": {},
   "source": [
    "Do Exercise 19.8 in Hansen (2022)."
   ]
  },
  {
   "cell_type": "code",
   "execution_count": null,
   "id": "52b184f2-e58e-4b0b-b79e-d975f3107b48",
   "metadata": {},
   "outputs": [],
   "source": [
    "import numpy as np\n",
    "import pandas as pd\n",
    "\n",
    "url = 'https://www.ssc.wisc.edu/~bhansen/econometrics/cps09mar.dta'\n",
    "cps09mar = pd.read_stata(url)"
   ]
  },
  {
   "cell_type": "code",
   "execution_count": null,
   "id": "397589f1-2962-4f38-ace4-f12cab15d830",
   "metadata": {},
   "outputs": [],
   "source": [
    "cps09mar.columns"
   ]
  },
  {
   "cell_type": "code",
   "execution_count": null,
   "id": "653c467a-24ef-4ec3-95ee-52d2c6ebe75a",
   "metadata": {},
   "outputs": [],
   "source": [
    "df = cps09mar[cps09mar.education == 20].copy()\n",
    "print(df.shape)\n",
    "df['exp'] = df['age'] - df['education'] - 6\n",
    "df = df[(df.exp <= 40) & (df.exp >= 0)]\n",
    "df['log_wage'] = np.log(df['earnings'] / (df['hours']*df['week']))\n",
    "print(df.shape)"
   ]
  },
  {
   "cell_type": "markdown",
   "id": "46935a3e-96f8-4fb1-9bbb-2dbece910d24",
   "metadata": {},
   "source": [
    "(a) Use Nadaraya-Watson to estimate the regression of log(wage) on experience, separately for men and women. Plot with 95% confidence intervals. Comment on how the estimated wage profiles vary with experience. In particular, do you think the evidence suggests that expected wages fall for experience levels above 20 for this education group?"
   ]
  },
  {
   "cell_type": "code",
   "execution_count": null,
   "id": "cfa28be6-b8ab-45af-805d-a632237d47c2",
   "metadata": {},
   "outputs": [],
   "source": [
    "from statsmodels.nonparametric.kernel_regression import KernelReg\n",
    "import sys\n",
    "import matplotlib.pyplot as plt\n",
    "\n",
    "# male\n",
    "df_temp = df[df.female == 0]\n",
    "res = KernelReg(endog=df_temp.log_wage,\n",
    "                exog=df_temp.exp,\n",
    "                var_type='c',\n",
    "                reg_type='lc')\n",
    "x = [i for i in range(41)]\n",
    "y = res.fit(x)[0]\n",
    "\n",
    "# bootstrap CI\n",
    "B = 100\n",
    "y_bs = []\n",
    "for i in range(B):\n",
    "    sys.stdout.write('\\r {} / {}   '.format(i+1,B))\n",
    "    sys.stdout.flush()\n",
    "    df_b = df_temp.sample(len(df_temp), replace=True)\n",
    "    res = KernelReg(endog = df_b.log_wage,\n",
    "                    exog=df_b.exp,\n",
    "                    var_type='c',\n",
    "                    reg_type='lc')\n",
    "    y_bs.append(res.fit(x)[0])\n",
    "    \n",
    "lb, ub = [], []\n",
    "for i in x:\n",
    "    y_x = np.array([y_bs[j][i] for j in range(len(y_bs))])\n",
    "    y_x.sort()\n",
    "    lb.append(y_x[4])\n",
    "    ub.append(y_x[96])\n",
    "lb = np.array(lb)\n",
    "rb = np.array(ub)\n",
    "\n",
    "\n",
    "fig1, ax = plt.subplots(1,1)\n",
    "plt.plot(x,y,'-')\n",
    "plt.plot(x,lb, '-.')\n",
    "plt.plot(x,ub, '-.')\n",
    "plt.title('Male, Local constant regression')"
   ]
  },
  {
   "cell_type": "code",
   "execution_count": null,
   "id": "9a1b49a5-c303-42ee-af92-5caf0f330c25",
   "metadata": {
    "tags": []
   },
   "outputs": [],
   "source": [
    "# female\n",
    "df_temp = df[df.female == 1]\n",
    "res = KernelReg(endog=df_temp.log_wage,\n",
    "                exog=df_temp.exp,\n",
    "                var_type='c',\n",
    "                reg_type='lc')\n",
    "x = [i for i in range(41)]\n",
    "y = res.fit(x)[0]\n",
    "\n",
    "# bootstrap CI\n",
    "B = 100\n",
    "y_bs = []\n",
    "for i in range(B):\n",
    "    sys.stdout.write('\\r {} / {}   '.format(i+1,B))\n",
    "    sys.stdout.flush()\n",
    "    df_b = df_temp.sample(len(df_temp), replace=True)\n",
    "    res = KernelReg(endog = df_b.log_wage,\n",
    "                    exog=df_b.exp,\n",
    "                    var_type='c',\n",
    "                    reg_type='lc')\n",
    "    y_bs.append(res.fit(x)[0])\n",
    "    \n",
    "lb, ub = [], []\n",
    "for i in x:\n",
    "    y_x = np.array([y_bs[j][i] for j in range(len(y_bs))])\n",
    "    y_x.sort()\n",
    "    lb.append(y_x[4])\n",
    "    ub.append(y_x[96])\n",
    "lb = np.array(lb)\n",
    "rb = np.array(ub)\n",
    "\n",
    "\n",
    "fig2, ax = plt.subplots(1,1)\n",
    "plt.plot(x,y,'-')\n",
    "plt.plot(x,lb, '-.')\n",
    "plt.plot(x,ub, '-.')\n",
    "plt.title('Female, Local constant regression')"
   ]
  },
  {
   "cell_type": "markdown",
   "id": "64a402f0-8013-4448-afc7-dffd7e9d10a0",
   "metadata": {},
   "source": [
    "Comment: dd"
   ]
  },
  {
   "cell_type": "markdown",
   "id": "c7f85a22-62e6-4fc8-8493-6a580aa61a07",
   "metadata": {},
   "source": [
    "(b) Repeat using the Local Linear estimator. How do the estimates and confidence intervals change?\n",
    "\n"
   ]
  },
  {
   "cell_type": "code",
   "execution_count": null,
   "id": "5bb68c12-a945-45fa-badb-758331dae2a4",
   "metadata": {},
   "outputs": [],
   "source": [
    "# male\n",
    "df_temp = df[df.female == 0]\n",
    "res = KernelReg(endog=df_temp.log_wage,\n",
    "                exog=df_temp.exp,\n",
    "                var_type='c',\n",
    "                reg_type='ll')\n",
    "x = [i for i in range(41)]\n",
    "y = res.fit(x)[0]\n",
    "\n",
    "# bootstrap CI\n",
    "B = 100\n",
    "y_bs = []\n",
    "for i in range(B):\n",
    "    sys.stdout.write('\\r {} / {}   '.format(i+1,B))\n",
    "    sys.stdout.flush()\n",
    "    df_b = df_temp.sample(len(df_temp), replace=True)\n",
    "    res = KernelReg(endog = df_b.log_wage,\n",
    "                    exog=df_b.exp,\n",
    "                    var_type='c',\n",
    "                    reg_type='ll')\n",
    "    y_bs.append(res.fit(x)[0])\n",
    "    \n",
    "lb, ub = [], []\n",
    "for i in x:\n",
    "    y_x = np.array([y_bs[j][i] for j in range(len(y_bs))])\n",
    "    y_x.sort()\n",
    "    lb.append(y_x[4])\n",
    "    ub.append(y_x[96])\n",
    "lb = np.array(lb)\n",
    "rb = np.array(ub)\n",
    "\n",
    "\n",
    "fig3, ax = plt.subplots(1,1)\n",
    "plt.plot(x,y,'-')\n",
    "plt.plot(x,lb, '-.')\n",
    "plt.plot(x,ub, '-.')\n",
    "plt.title('Male, Local Linear regression')"
   ]
  },
  {
   "cell_type": "code",
   "execution_count": null,
   "id": "11d18a4f-0dcf-47dc-b0bc-a2aa5c797943",
   "metadata": {},
   "outputs": [],
   "source": [
    "# female\n",
    "df_temp = df[df.female == 1]\n",
    "res = KernelReg(endog=df_temp.log_wage,\n",
    "                exog=df_temp.exp,\n",
    "                var_type='c',\n",
    "                reg_type='ll')\n",
    "x = [i for i in range(41)]\n",
    "y = res.fit(x)[0]\n",
    "\n",
    "# bootstrap CI\n",
    "B = 100\n",
    "y_bs = []\n",
    "for i in range(B):\n",
    "    sys.stdout.write('\\r {} / {}   '.format(i+1,B))\n",
    "    sys.stdout.flush()\n",
    "    df_b = df_temp.sample(len(df_temp), replace=True)\n",
    "    res = KernelReg(endog = df_b.log_wage,\n",
    "                    exog=df_b.exp,\n",
    "                    var_type='c',\n",
    "                    reg_type='ll')\n",
    "    y_bs.append(res.fit(x)[0])\n",
    "    \n",
    "lb, ub = [], []\n",
    "for i in x:\n",
    "    y_x = np.array([y_bs[j][i] for j in range(len(y_bs))])\n",
    "    y_x.sort()\n",
    "    lb.append(y_x[4])\n",
    "    ub.append(y_x[96])\n",
    "lb = np.array(lb)\n",
    "rb = np.array(ub)\n",
    "\n",
    "\n",
    "fig4, ax = plt.subplots(1,1)\n",
    "plt.plot(x,y,'-')\n",
    "plt.plot(x,lb, '-.')\n",
    "plt.plot(x,ub, '-.')\n",
    "plt.title('Female, Local Linear regression')"
   ]
  },
  {
   "cell_type": "markdown",
   "id": "1ae1f386-a5d5-4b33-814a-35ddc160f3a3",
   "metadata": {},
   "source": [
    "How change? "
   ]
  },
  {
   "cell_type": "code",
   "execution_count": null,
   "id": "92a9e1e4-4fde-46b6-aae1-9d0a4eeba006",
   "metadata": {},
   "outputs": [],
   "source": []
  }
 ],
 "metadata": {
  "environment": {
   "kernel": "python3",
   "name": "common-cpu.m94",
   "type": "gcloud",
   "uri": "gcr.io/deeplearning-platform-release/base-cpu:m94"
  },
  "kernelspec": {
   "display_name": "Python 3",
   "language": "python",
   "name": "python3"
  },
  "language_info": {
   "codemirror_mode": {
    "name": "ipython",
    "version": 3
   },
   "file_extension": ".py",
   "mimetype": "text/x-python",
   "name": "python",
   "nbconvert_exporter": "python",
   "pygments_lexer": "ipython3",
   "version": "3.8.8"
  }
 },
 "nbformat": 4,
 "nbformat_minor": 5
}
